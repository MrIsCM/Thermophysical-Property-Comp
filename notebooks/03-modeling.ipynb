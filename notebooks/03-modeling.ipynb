{
 "cells": [
  {
   "cell_type": "markdown",
   "id": "7a40b964",
   "metadata": {},
   "source": [
    "# Modeling Experimentation"
   ]
  },
  {
   "cell_type": "markdown",
   "id": "5aba9bde",
   "metadata": {},
   "source": [
    "## Imports"
   ]
  },
  {
   "cell_type": "code",
   "execution_count": 1,
   "id": "15320f4d",
   "metadata": {},
   "outputs": [],
   "source": [
    "# Standard libraries\n",
    "import numpy as np\n",
    "import pandas as pd\n",
    "import matplotlib.pyplot as plt\n",
    "import seaborn as sns"
   ]
  },
  {
   "cell_type": "code",
   "execution_count": 9,
   "id": "be692910",
   "metadata": {},
   "outputs": [],
   "source": [
    "# Machine learning libraries\n",
    "from sklearn.model_selection import train_test_split, KFold, cross_val_score\n",
    "from sklearn.linear_model import LinearRegression, Ridge, Lasso, ElasticNet, LogisticRegression\n",
    "from sklearn.ensemble import RandomForestRegressor\n",
    "from sklearn.metrics import mean_absolute_error, mean_squared_error\n",
    "import xgboost as xgb\n",
    "import lightgbm as lgb\n",
    "import catboost as cb"
   ]
  },
  {
   "cell_type": "code",
   "execution_count": 3,
   "id": "a6927059",
   "metadata": {},
   "outputs": [],
   "source": [
    "# Useful paths\n",
    "from pathlib import Path\n",
    "\n",
    "raw_data_folder = Path(\"../data/raw\")\n",
    "processed_data_folder = Path(\"../data/processed\") \n",
    "submission_folder = Path(\"../submissions\")\n",
    "figures_folder = Path(\"../reports/figures\")"
   ]
  },
  {
   "cell_type": "markdown",
   "id": "db0f95cb",
   "metadata": {},
   "source": [
    "## Data"
   ]
  },
  {
   "cell_type": "markdown",
   "id": "6657469c",
   "metadata": {},
   "source": [
    "### Load data"
   ]
  },
  {
   "cell_type": "code",
   "execution_count": 4,
   "id": "4754badd",
   "metadata": {},
   "outputs": [],
   "source": [
    "raw_data = pd.read_csv(raw_data_folder / \"train.csv\")\n",
    "to_predict = pd.read_csv(raw_data_folder / \"test.csv\")\n",
    "sample_sub = pd.read_csv(raw_data_folder / \"sample_submission.csv\")"
   ]
  },
  {
   "cell_type": "markdown",
   "id": "29d0af51",
   "metadata": {},
   "source": [
    "### Data split"
   ]
  },
  {
   "cell_type": "markdown",
   "id": "f4ac7f77",
   "metadata": {},
   "source": [
    "* There is not a lot of data so it is not possible to do the split stratifying by y because some classes have unique values. \n",
    "* Dividing temperatures by ranges may be worth exploring."
   ]
  },
  {
   "cell_type": "code",
   "execution_count": 5,
   "id": "93d8ace2",
   "metadata": {},
   "outputs": [],
   "source": [
    "SEED = 42\n",
    "\n",
    "X = raw_data.drop(columns=[\"id\", \"Tm\", \"SMILES\"])\n",
    "X_id = raw_data[\"id\"]\n",
    "X_SMILES = raw_data[\"SMILES\"]\n",
    "y = raw_data[\"Tm\"]\n",
    "\n",
    "X_train, X_test, y_train, y_test = train_test_split(X, y, test_size=0.3, random_state=SEED, shuffle=True)\n",
    "X_val, X_test, y_val, y_test = train_test_split(X_test, y_test, test_size=0.5, random_state=SEED, shuffle=True)"
   ]
  },
  {
   "cell_type": "code",
   "execution_count": 6,
   "id": "5c18cbdf",
   "metadata": {},
   "outputs": [
    {
     "data": {
      "text/plain": [
       "((1863, 424), (399, 424), (400, 424))"
      ]
     },
     "execution_count": 6,
     "metadata": {},
     "output_type": "execute_result"
    }
   ],
   "source": [
    "X_train.shape, X_val.shape, X_test.shape"
   ]
  },
  {
   "cell_type": "markdown",
   "id": "2ca7a391",
   "metadata": {},
   "source": [
    "## Model Selection"
   ]
  },
  {
   "cell_type": "markdown",
   "id": "12cdc62c",
   "metadata": {},
   "source": [
    "We know from the EDA notebook:\n",
    "* Mean (Tm):    278.26  \n",
    "* Std Dev (Tm): 85.12"
   ]
  },
  {
   "cell_type": "code",
   "execution_count": 23,
   "id": "c3cb4e00",
   "metadata": {},
   "outputs": [],
   "source": [
    "def evaluate_simple_model(model, X_train, y_train, X_val, y_val):\n",
    "    model.fit(X_train, y_train)\n",
    "    y_pred = model.predict(X_val)\n",
    "    \n",
    "    train_mae = mean_absolute_error(y_train, model.predict(X_train))\n",
    "    val_mae = mean_absolute_error(y_val, y_pred)\n",
    "\n",
    "    pred_mean = y_pred.mean()\n",
    "    actual_mean = y_val.mean()\n",
    "\n",
    "    pred_std = y_pred.std()\n",
    "    actual_std = y_val.std()\n",
    "\n",
    "    # Results Summary\n",
    "    print(f\"Train MAE: {train_mae:.2f} K\")\n",
    "    print(f\"Validation MAE: {val_mae:.2f} K\")\n",
    "\n",
    "    print(\"-\"*20)\n",
    "\n",
    "    print(f\"Predicted Mean Tm: {pred_mean:.2f} K\")\n",
    "    print(f\"Actual Mean Tm: {actual_mean:.2f} K\")\n",
    "    print(f\"Relative Error in Mean: {abs(pred_mean - actual_mean) / actual_mean * 100:.2f} %\")\n",
    "    \n",
    "    print(\"-\"*20)\n",
    "\n",
    "    print(f\"Predicted Std Tm: {pred_std:.2f} K\")\n",
    "    print(f\"Actual Std Tm: {actual_std:.2f} K\")\n",
    "    print(f\"Relative Error in Std: {abs(pred_std - actual_std) / actual_std * 100:.2f} %\")\n",
    "\n",
    "    return model, val_mae, train_mae, pred_mean, pred_std\n"
   ]
  },
  {
   "cell_type": "code",
   "execution_count": 25,
   "id": "39102ab3",
   "metadata": {},
   "outputs": [],
   "source": [
    "# Let's try some simple models first\n",
    "\n",
    "models = {\n",
    "    \"Linear Regression\": LinearRegression(),\n",
    "    \"Ridge Regression\": Ridge(alpha=1.0),\n",
    "    \"Lasso Regression\": Lasso(alpha=0.1),\n",
    "    \"Random Forest\": RandomForestRegressor(n_estimators=100, random_state=SEED),\n",
    "    \"XGBoost\": xgb.XGBRegressor(n_estimators=100, random_state=SEED),\n",
    "    \"LightGBM\": lgb.LGBMRegressor(n_estimators=100, random_state=SEED),\n",
    "    \"CatBoost\": cb.CatBoostRegressor(n_estimators=100, random_state=SEED, verbose=0)\n",
    "}\n",
    "results = {}"
   ]
  },
  {
   "cell_type": "code",
   "execution_count": 30,
   "id": "2f32e1d2",
   "metadata": {},
   "outputs": [
    {
     "name": "stdout",
     "output_type": "stream",
     "text": [
      "Evaluating Linear Regression...\n",
      "Train MAE: 30.20 K\n",
      "Validation MAE: 37.24 K\n",
      "--------------------\n",
      "Predicted Mean Tm: 275.75 K\n",
      "Actual Mean Tm: 276.07 K\n",
      "Relative Error in Mean: 0.12 %\n",
      "--------------------\n",
      "Predicted Std Tm: 76.70 K\n",
      "Actual Std Tm: 89.29 K\n",
      "Relative Error in Std: 14.10 %\n",
      "\n",
      "\n",
      "Evaluating Ridge Regression...\n",
      "Train MAE: 31.96 K\n",
      "Validation MAE: 38.39 K\n",
      "--------------------\n",
      "Predicted Mean Tm: 275.87 K\n",
      "Actual Mean Tm: 276.07 K\n",
      "Relative Error in Mean: 0.07 %\n",
      "--------------------\n",
      "Predicted Std Tm: 68.74 K\n",
      "Actual Std Tm: 89.29 K\n",
      "Relative Error in Std: 23.02 %\n",
      "\n",
      "\n",
      "Evaluating Lasso Regression...\n",
      "Train MAE: 36.42 K\n",
      "Validation MAE: 42.68 K\n",
      "--------------------\n",
      "Predicted Mean Tm: 276.59 K\n",
      "Actual Mean Tm: 276.07 K\n",
      "Relative Error in Mean: 0.19 %\n",
      "--------------------\n",
      "Predicted Std Tm: 61.52 K\n",
      "Actual Std Tm: 89.29 K\n",
      "Relative Error in Std: 31.10 %\n",
      "\n",
      "\n",
      "Evaluating Random Forest...\n",
      "Train MAE: 15.05 K\n",
      "Validation MAE: 37.33 K\n",
      "--------------------\n",
      "Predicted Mean Tm: 269.53 K\n",
      "Actual Mean Tm: 276.07 K\n",
      "Relative Error in Mean: 2.37 %\n",
      "--------------------\n",
      "Predicted Std Tm: 71.29 K\n",
      "Actual Std Tm: 89.29 K\n",
      "Relative Error in Std: 20.16 %\n",
      "\n",
      "\n",
      "Evaluating XGBoost...\n",
      "Train MAE: 21.84 K\n",
      "Validation MAE: 36.65 K\n",
      "--------------------\n",
      "Predicted Mean Tm: 277.39 K\n",
      "Actual Mean Tm: 276.07 K\n",
      "Relative Error in Mean: 0.48 %\n",
      "--------------------\n",
      "Predicted Std Tm: 69.12 K\n",
      "Actual Std Tm: 89.29 K\n",
      "Relative Error in Std: 22.59 %\n",
      "\n",
      "\n",
      "Evaluating LightGBM...\n",
      "[LightGBM] [Warning] Found whitespace in feature_names, replace with underlines\n",
      "[LightGBM] [Info] Auto-choosing row-wise multi-threading, the overhead of testing was 0.000869 seconds.\n",
      "You can set `force_row_wise=true` to remove the overhead.\n",
      "And if memory is not enough, you can set `force_col_wise=true`.\n",
      "[LightGBM] [Info] Total Bins 326\n",
      "[LightGBM] [Info] Number of data points in the train set: 1863, number of used features: 74\n",
      "[LightGBM] [Info] Start training from score 278.346046\n",
      "Train MAE: 34.31 K\n",
      "Validation MAE: 44.60 K\n",
      "--------------------\n",
      "Predicted Mean Tm: 276.33 K\n",
      "Actual Mean Tm: 276.07 K\n",
      "Relative Error in Mean: 0.09 %\n",
      "--------------------\n",
      "Predicted Std Tm: 63.40 K\n",
      "Actual Std Tm: 89.29 K\n",
      "Relative Error in Std: 28.99 %\n",
      "\n",
      "\n",
      "Evaluating CatBoost...\n",
      "Train MAE: 31.84 K\n",
      "Validation MAE: 40.70 K\n",
      "--------------------\n",
      "Predicted Mean Tm: 276.86 K\n",
      "Actual Mean Tm: 276.07 K\n",
      "Relative Error in Mean: 0.29 %\n",
      "--------------------\n",
      "Predicted Std Tm: 61.62 K\n",
      "Actual Std Tm: 89.29 K\n",
      "Relative Error in Std: 30.99 %\n",
      "\n",
      "\n"
     ]
    }
   ],
   "source": [
    "for name, model in models.items():\n",
    "    print(f\"Evaluating {name}...\")\n",
    "    trained_model, val_mae, train_mae, pred_mean, pred_std = evaluate_simple_model(model, X_train, y_train, X_val, y_val)\n",
    "    results[name] = {\n",
    "        \"model\": trained_model,\n",
    "        \"val_mae\": val_mae,\n",
    "        \"train_mae\": train_mae,\n",
    "        \"pred_mean\": pred_mean,\n",
    "        \"pred_std\": pred_std\n",
    "    }\n",
    "    print(\"\\n\")"
   ]
  },
  {
   "cell_type": "code",
   "execution_count": 31,
   "id": "5990c7e1",
   "metadata": {},
   "outputs": [],
   "source": [
    "# Save true values statistics for later comparison\n",
    "true_val_mean = y_val.mean()\n",
    "true_val_std = y_val.std()"
   ]
  },
  {
   "cell_type": "code",
   "execution_count": 37,
   "id": "bc5edff3",
   "metadata": {},
   "outputs": [],
   "source": [
    "# Show results\n",
    "results_df = pd.DataFrame(results).T\n",
    "results_df[\"relative val-train mae\"] = (results_df[\"val_mae\"] - results_df[\"train_mae\"]) / results_df[\"train_mae\"]\n",
    "results_df[\"distance to true mean\"] = abs(results_df[\"pred_mean\"] - true_val_mean) / true_val_mean\n",
    "results_df[\"distance to true std\"] = abs(results_df[\"pred_std\"] - true_val_std) / true_val_std\n",
    "\n",
    "try:\n",
    "    results_df = results_df.drop(columns=[\"model\"])\n",
    "except:\n",
    "    pass"
   ]
  },
  {
   "cell_type": "code",
   "execution_count": 43,
   "id": "aba7ab05",
   "metadata": {},
   "outputs": [
    {
     "data": {
      "text/html": [
       "<div>\n",
       "<style scoped>\n",
       "    .dataframe tbody tr th:only-of-type {\n",
       "        vertical-align: middle;\n",
       "    }\n",
       "\n",
       "    .dataframe tbody tr th {\n",
       "        vertical-align: top;\n",
       "    }\n",
       "\n",
       "    .dataframe thead th {\n",
       "        text-align: right;\n",
       "    }\n",
       "</style>\n",
       "<table border=\"1\" class=\"dataframe\">\n",
       "  <thead>\n",
       "    <tr style=\"text-align: right;\">\n",
       "      <th></th>\n",
       "      <th>val_mae</th>\n",
       "      <th>train_mae</th>\n",
       "      <th>pred_mean</th>\n",
       "      <th>pred_std</th>\n",
       "      <th>relative val-train mae</th>\n",
       "      <th>distance to true mean</th>\n",
       "      <th>distance to true std</th>\n",
       "    </tr>\n",
       "  </thead>\n",
       "  <tbody>\n",
       "    <tr>\n",
       "      <th>Ridge Regression</th>\n",
       "      <td>38.386378</td>\n",
       "      <td>31.960609</td>\n",
       "      <td>275.87399</td>\n",
       "      <td>68.738413</td>\n",
       "      <td>0.201053</td>\n",
       "      <td>0.000714</td>\n",
       "      <td>0.230163</td>\n",
       "    </tr>\n",
       "    <tr>\n",
       "      <th>LightGBM</th>\n",
       "      <td>44.597371</td>\n",
       "      <td>34.314312</td>\n",
       "      <td>276.327549</td>\n",
       "      <td>63.404069</td>\n",
       "      <td>0.299673</td>\n",
       "      <td>0.000929</td>\n",
       "      <td>0.289905</td>\n",
       "    </tr>\n",
       "    <tr>\n",
       "      <th>Linear Regression</th>\n",
       "      <td>37.242059</td>\n",
       "      <td>30.195999</td>\n",
       "      <td>275.750818</td>\n",
       "      <td>76.702514</td>\n",
       "      <td>0.233344</td>\n",
       "      <td>0.00116</td>\n",
       "      <td>0.140969</td>\n",
       "    </tr>\n",
       "    <tr>\n",
       "      <th>Lasso Regression</th>\n",
       "      <td>42.682576</td>\n",
       "      <td>36.417954</td>\n",
       "      <td>276.592482</td>\n",
       "      <td>61.519464</td>\n",
       "      <td>0.17202</td>\n",
       "      <td>0.001889</td>\n",
       "      <td>0.311011</td>\n",
       "    </tr>\n",
       "    <tr>\n",
       "      <th>CatBoost</th>\n",
       "      <td>40.697272</td>\n",
       "      <td>31.83918</td>\n",
       "      <td>276.860632</td>\n",
       "      <td>61.62271</td>\n",
       "      <td>0.278214</td>\n",
       "      <td>0.00286</td>\n",
       "      <td>0.309855</td>\n",
       "    </tr>\n",
       "    <tr>\n",
       "      <th>XGBoost</th>\n",
       "      <td>36.654803</td>\n",
       "      <td>21.844591</td>\n",
       "      <td>277.391754</td>\n",
       "      <td>69.115356</td>\n",
       "      <td>0.677981</td>\n",
       "      <td>0.004784</td>\n",
       "      <td>0.225941</td>\n",
       "    </tr>\n",
       "    <tr>\n",
       "      <th>Random Forest</th>\n",
       "      <td>37.333986</td>\n",
       "      <td>15.054103</td>\n",
       "      <td>269.531247</td>\n",
       "      <td>71.293209</td>\n",
       "      <td>1.479987</td>\n",
       "      <td>0.023689</td>\n",
       "      <td>0.20155</td>\n",
       "    </tr>\n",
       "  </tbody>\n",
       "</table>\n",
       "</div>"
      ],
      "text/plain": [
       "                     val_mae  train_mae   pred_mean   pred_std  \\\n",
       "Ridge Regression   38.386378  31.960609   275.87399  68.738413   \n",
       "LightGBM           44.597371  34.314312  276.327549  63.404069   \n",
       "Linear Regression  37.242059  30.195999  275.750818  76.702514   \n",
       "Lasso Regression   42.682576  36.417954  276.592482  61.519464   \n",
       "CatBoost           40.697272   31.83918  276.860632   61.62271   \n",
       "XGBoost            36.654803  21.844591  277.391754  69.115356   \n",
       "Random Forest      37.333986  15.054103  269.531247  71.293209   \n",
       "\n",
       "                  relative val-train mae distance to true mean  \\\n",
       "Ridge Regression                0.201053              0.000714   \n",
       "LightGBM                        0.299673              0.000929   \n",
       "Linear Regression               0.233344               0.00116   \n",
       "Lasso Regression                 0.17202              0.001889   \n",
       "CatBoost                        0.278214               0.00286   \n",
       "XGBoost                         0.677981              0.004784   \n",
       "Random Forest                   1.479987              0.023689   \n",
       "\n",
       "                  distance to true std  \n",
       "Ridge Regression              0.230163  \n",
       "LightGBM                      0.289905  \n",
       "Linear Regression             0.140969  \n",
       "Lasso Regression              0.311011  \n",
       "CatBoost                      0.309855  \n",
       "XGBoost                       0.225941  \n",
       "Random Forest                  0.20155  "
      ]
     },
     "execution_count": 43,
     "metadata": {},
     "output_type": "execute_result"
    }
   ],
   "source": [
    "order_col = \"distance to true mean\"\n",
    "results_df = results_df.sort_values(by=order_col)\n",
    "results_df"
   ]
  }
 ],
 "metadata": {
  "kernelspec": {
   "display_name": "Python 3",
   "language": "python",
   "name": "python3"
  },
  "language_info": {
   "codemirror_mode": {
    "name": "ipython",
    "version": 3
   },
   "file_extension": ".py",
   "mimetype": "text/x-python",
   "name": "python",
   "nbconvert_exporter": "python",
   "pygments_lexer": "ipython3",
   "version": "3.10.18"
  }
 },
 "nbformat": 4,
 "nbformat_minor": 5
}
