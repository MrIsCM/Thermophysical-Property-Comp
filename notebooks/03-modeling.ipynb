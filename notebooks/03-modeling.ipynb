{
 "cells": [
  {
   "cell_type": "markdown",
   "id": "7a40b964",
   "metadata": {},
   "source": [
    "# Modeling Experimentation"
   ]
  },
  {
   "cell_type": "markdown",
   "id": "5aba9bde",
   "metadata": {},
   "source": [
    "## Imports"
   ]
  },
  {
   "cell_type": "code",
   "execution_count": 4,
   "id": "15320f4d",
   "metadata": {},
   "outputs": [],
   "source": [
    "# Standard libraries\n",
    "import numpy as np\n",
    "import pandas as pd\n",
    "import matplotlib.pyplot as plt\n",
    "import seaborn as sns"
   ]
  },
  {
   "cell_type": "code",
   "execution_count": 2,
   "id": "be692910",
   "metadata": {},
   "outputs": [],
   "source": [
    "# Machine learning libraries\n",
    "from sklearn.model_selection import train_test_split, KFold, cross_val_score\n",
    "from sklearn.ensemble import RandomForestRegressor\n",
    "from sklearn.metrics import mean_absolute_error, mean_squared_error\n",
    "import xgboost as xgb\n",
    "import lightgbm as lgb\n",
    "import catboost as cb"
   ]
  },
  {
   "cell_type": "code",
   "execution_count": 5,
   "id": "a6927059",
   "metadata": {},
   "outputs": [],
   "source": [
    "# Useful paths\n",
    "from pathlib import Path\n",
    "\n",
    "raw_data_folder = Path(\"../data/raw\")\n",
    "processed_data_folder = Path(\"../data/processed\") \n",
    "submission_folder = Path(\"../submissions\")\n",
    "figures_folder = Path(\"../reports/figures\")"
   ]
  },
  {
   "cell_type": "markdown",
   "id": "db0f95cb",
   "metadata": {},
   "source": [
    "## Data"
   ]
  },
  {
   "cell_type": "markdown",
   "id": "6657469c",
   "metadata": {},
   "source": [
    "### Load data"
   ]
  },
  {
   "cell_type": "code",
   "execution_count": 6,
   "id": "4754badd",
   "metadata": {},
   "outputs": [],
   "source": [
    "raw_data = pd.read_csv(raw_data_folder / \"train.csv\")\n",
    "to_predict = pd.read_csv(raw_data_folder / \"test.csv\")\n",
    "sample_sub = pd.read_csv(raw_data_folder / \"sample_submission.csv\")"
   ]
  },
  {
   "cell_type": "markdown",
   "id": "29d0af51",
   "metadata": {},
   "source": [
    "### Data split"
   ]
  },
  {
   "cell_type": "markdown",
   "id": "f4ac7f77",
   "metadata": {},
   "source": [
    "* There is not a lot of data so it is not possible to do the split stratifying by y because some classes have unique values. \n",
    "* Dividing temperatures by ranges may be worth exploring."
   ]
  },
  {
   "cell_type": "code",
   "execution_count": 12,
   "id": "93d8ace2",
   "metadata": {},
   "outputs": [],
   "source": [
    "SEED = 42\n",
    "\n",
    "X = raw_data.drop(columns=[\"id\", \"Tm\", \"SMILES\"])\n",
    "X_id = raw_data[\"id\"]\n",
    "X_SMILES = raw_data[\"SMILES\"]\n",
    "y = raw_data[\"Tm\"]\n",
    "\n",
    "X_train, X_test, y_train, y_test = train_test_split(X, y, test_size=0.3, random_state=SEED, shuffle=True)\n",
    "X_val, X_test, y_val, y_test = train_test_split(X_test, y_test, test_size=0.5, random_state=SEED, shuffle=True)"
   ]
  },
  {
   "cell_type": "code",
   "execution_count": 13,
   "id": "5c18cbdf",
   "metadata": {},
   "outputs": [
    {
     "data": {
      "text/plain": [
       "((1863, 424), (399, 424), (400, 424))"
      ]
     },
     "execution_count": 13,
     "metadata": {},
     "output_type": "execute_result"
    }
   ],
   "source": [
    "X_train.shape, X_val.shape, X_test.shape"
   ]
  },
  {
   "cell_type": "markdown",
   "id": "2ca7a391",
   "metadata": {},
   "source": [
    "## Model Selection"
   ]
  },
  {
   "cell_type": "markdown",
   "id": "12cdc62c",
   "metadata": {},
   "source": [
    "We know from "
   ]
  },
  {
   "cell_type": "code",
   "execution_count": 17,
   "id": "39102ab3",
   "metadata": {},
   "outputs": [],
   "source": [
    "# Let's try a simple model first\n",
    "\n",
    "rf_clf = RandomForestRegressor(n_estimators=100, random_state=SEED)\n",
    "rf_clf.fit(X_train, y_train)\n",
    "\n",
    "y_pred = rf_clf.predict(X_val)\n",
    "mae = mean_absolute_error(y_val, y_pred)"
   ]
  },
  {
   "cell_type": "code",
   "execution_count": null,
   "id": "f6166694",
   "metadata": {},
   "outputs": [
    {
     "name": "stdout",
     "output_type": "stream",
     "text": [
      "Train MAE: 15.05 K\n",
      "Validation MAE: 37.33 K\n",
      "Mean predicted Tm: 269.53 K\n",
      "Std predicted Tm: 71.29 K\n"
     ]
    }
   ],
   "source": [
    "# Summary of results\n",
    "\n",
    "\n",
    "print(f\"Train MAE: {mean_absolute_error(y_train, rf_clf.predict(X_train)):.2f} K\")\n",
    "print(f\"Validation MAE: {mae:.2f} K\")\n",
    "\n",
    "print(f\"Mean predicted Tm: {y_pred.mean():.2f} K\")\n",
    "print(f\"Std predicted Tm: {y_pred.std():.2f} K\")"
   ]
  },
  {
   "cell_type": "markdown",
   "id": "5846f3ef",
   "metadata": {},
   "source": [
    "As we can see, there is quite some overfitting."
   ]
  }
 ],
 "metadata": {
  "kernelspec": {
   "display_name": "Python 3",
   "language": "python",
   "name": "python3"
  },
  "language_info": {
   "codemirror_mode": {
    "name": "ipython",
    "version": 3
   },
   "file_extension": ".py",
   "mimetype": "text/x-python",
   "name": "python",
   "nbconvert_exporter": "python",
   "pygments_lexer": "ipython3",
   "version": "3.10.18"
  }
 },
 "nbformat": 4,
 "nbformat_minor": 5
}
