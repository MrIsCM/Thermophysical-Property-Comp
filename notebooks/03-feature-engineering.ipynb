{
 "cells": [
  {
   "cell_type": "markdown",
   "id": "55de38b0",
   "metadata": {},
   "source": [
    "# Feature Engineering"
   ]
  },
  {
   "cell_type": "markdown",
   "id": "d4f032c6",
   "metadata": {},
   "source": [
    "## Imports"
   ]
  },
  {
   "cell_type": "code",
   "execution_count": 1,
   "id": "d6028c20",
   "metadata": {},
   "outputs": [],
   "source": [
    "# Standard imports\n",
    "import numpy as np\n",
    "import pandas as pd\n",
    "import matplotlib.pyplot as plt\n",
    "import seaborn as sns"
   ]
  },
  {
   "cell_type": "code",
   "execution_count": 2,
   "id": "2a14467b",
   "metadata": {},
   "outputs": [],
   "source": [
    "# Paths things\n",
    "from pathlib import Path\n",
    "\n",
    "raw_data_folder = Path(\"../data/raw\")\n",
    "processed_data_folder = Path(\"../data/processed\") \n",
    "submission_folder = Path(\"../submissions\")\n",
    "figures_folder = Path(\"../reports/figures\")\n"
   ]
  },
  {
   "cell_type": "markdown",
   "id": "a225b135",
   "metadata": {},
   "source": [
    "After some research, I have found [rdkit](https://www.rdkit.org/). This is a Cheminformatics library.\n",
    "\n",
    "Let's explore a bit"
   ]
  },
  {
   "cell_type": "code",
   "execution_count": 6,
   "id": "ec2882e3",
   "metadata": {},
   "outputs": [],
   "source": [
    "# Cheminformatics library\n",
    "import rdkit\n",
    "from rdkit import Chem\n",
    "from rdkit.Chem import Descriptors, PandasTools\n",
    "from rdkit.Chem import AllChem\n",
    "from rdkit.ML.Descriptors import MoleculeDescriptors\n",
    "from rdkit.Chem import Draw\n",
    "from rdkit.Chem.Draw import IPythonConsole  # Enables the RDKit representation in Jupyter Notebooks\n"
   ]
  },
  {
   "cell_type": "code",
   "execution_count": 7,
   "id": "1a425150",
   "metadata": {},
   "outputs": [
    {
     "data": {
      "image/jpeg": "[encoded data removed]",
      "image/png": "[encoded data removed]",
      "text/plain": [
       "<PIL.PngImagePlugin.PngImageFile image mode=RGB size=300x300>"
      ]
     },
     "execution_count": 7,
     "metadata": {},
     "output_type": "execute_result"
    }
   ],
   "source": [
    "# Simple RDKit usage example: Convert SMILES to molecule and display\n",
    "\n",
    "smiles = \"CCO\"  # Ethanol\n",
    "mol = Chem.MolFromSmiles(smiles)\n",
    "Draw.MolToImage(mol)"
   ]
  },
  {
   "cell_type": "code",
   "execution_count": 10,
   "id": "d5f85f71",
   "metadata": {},
   "outputs": [
    {
     "name": "stdout",
     "output_type": "stream",
     "text": [
      "SMILES: CCO\n",
      "Number of atoms: 3\n",
      "Molecular Weight: 46.069\n",
      "LogP: -0.0014000000000000123\n",
      "Number of Rotatable Bonds: 0\n",
      "Number of H-Bond Donors: 1\n",
      "Number of H-Bond Acceptors: 1\n",
      "Topological Polar Surface Area: 20.23\n",
      "Number of Rings: 0\n",
      "Number of Aromatic Rings: 0\n",
      "Fraction of Csp3: 1.0\n",
      "Number of Heavy Atoms: 3\n",
      "Number of Heteroatoms: 1\n",
      "Number of Valence Electrons: 20\n"
     ]
    }
   ],
   "source": [
    "# Print some info about the molecule\n",
    "print(f\"SMILES: {smiles}\")\n",
    "print(f\"Number of atoms: {mol.GetNumAtoms()}\")\n",
    "print(f\"Molecular Weight: {Descriptors.MolWt(mol)}\")\n",
    "print(f\"LogP: {Descriptors.MolLogP(mol)}\")\n",
    "print(f\"Number of Rotatable Bonds: {Descriptors.NumRotatableBonds(mol)}\")\n",
    "print(f\"Number of H-Bond Donors: {Descriptors.NumHDonors(mol)}\")\n",
    "print(f\"Number of H-Bond Acceptors: {Descriptors.NumHAcceptors(mol)}\")\n",
    "print(f\"Topological Polar Surface Area: {Descriptors.TPSA(mol)}\")\n",
    "print(f\"Number of Rings: {Descriptors.RingCount(mol)}\")\n",
    "print(f\"Number of Aromatic Rings: {Descriptors.NumAromaticRings(mol)}\")\n",
    "print(f\"Fraction of Csp3: {Descriptors.FractionCSP3(mol)}\")\n",
    "print(f\"Number of Heavy Atoms: {Descriptors.HeavyAtomCount(mol)}\")\n",
    "print(f\"Number of Heteroatoms: {Descriptors.NumHeteroatoms(mol)}\")\n",
    "print(f\"Number of Valence Electrons: {Descriptors.NumValenceElectrons(mol)}\")"
   ]
  }
 ],
 "metadata": {
  "kernelspec": {
   "display_name": "melting-point-kaggle",
   "language": "python",
   "name": "python3"
  },
  "language_info": {
   "codemirror_mode": {
    "name": "ipython",
    "version": 3
   },
   "file_extension": ".py",
   "mimetype": "text/x-python",
   "name": "python",
   "nbconvert_exporter": "python",
   "pygments_lexer": "ipython3",
   "version": "3.10.18"
  }
 },
 "nbformat": 4,
 "nbformat_minor": 5
}
